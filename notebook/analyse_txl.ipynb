{
 "cells": [
  {
   "cell_type": "markdown",
   "source": [
    "# Import libraries\n"
   ],
   "metadata": {
    "collapsed": false
   }
  },
  {
   "cell_type": "code",
   "execution_count": 1,
   "metadata": {
    "collapsed": true,
    "ExecuteTime": {
     "end_time": "2023-11-03T21:14:25.740707Z",
     "start_time": "2023-11-03T21:14:25.736430Z"
    }
   },
   "outputs": [],
   "source": [
    "import os\n",
    "import sys\n",
    "import subprocess\n",
    "import tqdm\n",
    "from typing import List, Tuple\n",
    "import shlex"
   ]
  },
  {
   "cell_type": "markdown",
   "source": [
    "# Verify The Total TXL Can Parse\n",
    "function named `parse_unparse_contracts` is used to parse and unparse contracts using TXL.\n",
    "The function takes two arguments:\n",
    "- `txl`: the path to the TXL file\n",
    "- `paths`: a list of paths to the contracts to parse\n",
    "The function returns two lists:\n",
    "- `outputs`: a list of paths to the contracts that were parsed\n",
    "- `errors`: a list of paths to the contracts that were not parsed\n",
    "\n",
    "for errors is a list of paths to the contracts that were not parsed.\n",
    "for outputs is a list of paths to the contracts that were parsed.\n",
    "$$TXL_{errors} = |errors|$$\n",
    "$$TXL_{outputs} = |outputs|$$\n",
    "$$TXL_{total} = TXL_{errors} + TXL_{outputs}$$\n",
    "$$TXL_{ratio} = \\frac{TXL_{outputs}}{TXL_{total}}$$\n",
    "$$TXL_{\\bar{ratio}} = \\frac{TXL_{errors}}{TXL_{total}}$$"
   ],
   "metadata": {
    "collapsed": false
   }
  },
  {
   "cell_type": "code",
   "execution_count": 2,
   "outputs": [],
   "source": [
    "def parse_unparse_contracts(txl: str, paths: list) -> Tuple[List[str], List[str], List[str]]:\n",
    "    \"\"\"\n",
    "    Parse and unparse contracts.\n",
    "    using TXL\n",
    "    :return:\n",
    "    \"\"\"\n",
    "    contracts_num = 0\n",
    "    errors = []\n",
    "    errno = []\n",
    "    outputs = []\n",
    "    # for each file in the contracts folder\n",
    "    # do the command 'txl ?.sol ?.txl'\n",
    "    # write a progress bar\n",
    "    tqdm.tqdm.write('Parsing contracts...')\n",
    "    for path in tqdm.tqdm(paths):\n",
    "        # get the files in the contracts folder\n",
    "        for p in os.listdir(path):\n",
    "            if p.endswith('.sol'):\n",
    "                ps = os.path.abspath(os.path.join(path, p))\n",
    "            contracts_num += 1\n",
    "            # get errors and output from txl\n",
    "            proc = subprocess.Popen(['txl', txl, ps], stdout=subprocess.PIPE, stderr=subprocess.PIPE)\n",
    "            out, err = proc.communicate()\n",
    "\n",
    "            # Check return code to see if txl command was successful\n",
    "            if proc.returncode != 0:\n",
    "                error_message = err.decode('utf-8') if err else 'Unknown error'\n",
    "                # Log the error\n",
    "                # tqdm.tqdm.write(f'Error processing {ps}:\\n{error_message}')\n",
    "                errors.append(ps)\n",
    "                errno.append(error_message)\n",
    "                # If you want to raise an exception instead of just logging:\n",
    "                # raise RuntimeError(f'Error processing {ps}:\\n{error_message}')\n",
    "\n",
    "            # if there is output\n",
    "            if out:\n",
    "                output_message = out.decode('utf-8')\n",
    "                # Uncomment below if you want to print the output\n",
    "                # tqdm.tqdm.write(f'Output from processing {ps}:\\n{output_message}')\n",
    "                outputs.append(output_message)\n",
    "\n",
    "    # show progress bar showing the number of files parsed and did not parse\n",
    "    tqdm.tqdm.write('Parsed: {}'.format(len(outputs)))\n",
    "    tqdm.tqdm.write('Errors: {}'.format(len(errors)))\n",
    "    tqdm.tqdm.write('Total: {}'.format(len(outputs) + len(errors)))\n",
    "    tqdm.tqdm.write('TOTAL CONTRACTS: {}'.format(contracts_num))\n",
    "    # ratio of files parsed to files not parsed\n",
    "    tqdm.tqdm.write('Ratio Parsed: {}'.format(len(outputs) / (len(outputs) + len(errors))))\n",
    "    tqdm.tqdm.write('Ratio ~Parsed: {}'.format(len(errors) / (len(outputs) + len(errors))))\n",
    "    return outputs, errors, errno"
   ],
   "metadata": {
    "collapsed": false,
    "ExecuteTime": {
     "end_time": "2023-11-03T21:14:25.746505Z",
     "start_time": "2023-11-03T21:14:25.744900Z"
    }
   }
  },
  {
   "cell_type": "markdown",
   "source": [
    "# Parse and Unparse Contracts (get all the contracts)"
   ],
   "metadata": {
    "collapsed": false
   }
  },
  {
   "cell_type": "code",
   "execution_count": 3,
   "outputs": [
    {
     "data": {
      "text/plain": "['/Users/sourenakhanzadeh/programming/txl/SolOSphere/scripts/custom_contracts',\n '/Users/sourenakhanzadeh/programming/txl/SolOSphere/scripts/gpt_contracts',\n '/Users/sourenakhanzadeh/programming/txl/SolOSphere/scripts/github_contracts/error_contracts',\n '/Users/sourenakhanzadeh/programming/txl/SolOSphere/scripts/github_contracts/verified_contracts']"
     },
     "execution_count": 3,
     "metadata": {},
     "output_type": "execute_result"
    }
   ],
   "source": [
    "# get the path to the contracts\n",
    "contracts_path = [os.path.abspath(os.path.join(os.getcwd(), '..', 'scripts', 'custom_contracts')),\n",
    "                    os.path.abspath(os.path.join(os.getcwd(), '..', 'scripts', 'gpt_contracts')),\n",
    "                    os.path.abspath(os.path.join(os.getcwd(), '..', 'scripts', 'github_contracts', 'error_contracts')),\n",
    "                    os.path.abspath(os.path.join(os.getcwd(), '..', 'scripts', 'github_contracts', 'verified_contracts')),\n",
    "                  ]\n",
    "\n",
    "contracts_path"
   ],
   "metadata": {
    "collapsed": false,
    "ExecuteTime": {
     "end_time": "2023-11-03T21:14:25.759549Z",
     "start_time": "2023-11-03T21:14:25.747930Z"
    }
   }
  },
  {
   "cell_type": "code",
   "execution_count": 4,
   "outputs": [
    {
     "data": {
      "text/plain": "'/Users/sourenakhanzadeh/programming/txl/SolOSphere/SolO/txl/new_version/optimize.txl'"
     },
     "execution_count": 4,
     "metadata": {},
     "output_type": "execute_result"
    }
   ],
   "source": [
    "# get the path to the txl file\n",
    "txl_path = os.path.abspath(os.path.join(os.getcwd(), '..', 'SolO', 'txl', 'new_version', 'optimize.txl'))\n",
    "\n",
    "txl_path"
   ],
   "metadata": {
    "collapsed": false,
    "ExecuteTime": {
     "end_time": "2023-11-03T21:14:25.759749Z",
     "start_time": "2023-11-03T21:14:25.753237Z"
    }
   }
  },
  {
   "cell_type": "code",
   "execution_count": 5,
   "outputs": [
    {
     "name": "stdout",
     "output_type": "stream",
     "text": [
      "Parsing contracts...\n"
     ]
    },
    {
     "name": "stderr",
     "output_type": "stream",
     "text": [
      "100%|██████████| 4/4 [00:07<00:00,  1.94s/it]"
     ]
    },
    {
     "name": "stdout",
     "output_type": "stream",
     "text": [
      "Parsed: 610\n",
      "Errors: 244\n",
      "Total: 854\n",
      "TOTAL CONTRACTS: 854\n",
      "Ratio Parsed: 0.7142857142857143\n",
      "Ratio ~Parsed: 0.2857142857142857\n"
     ]
    },
    {
     "name": "stderr",
     "output_type": "stream",
     "text": [
      "\n"
     ]
    }
   ],
   "source": [
    "# parse and unparse the contracts\n",
    "outputs, errors, errno = parse_unparse_contracts(txl_path, contracts_path)"
   ],
   "metadata": {
    "collapsed": false,
    "ExecuteTime": {
     "end_time": "2023-11-03T21:14:33.515560Z",
     "start_time": "2023-11-03T21:14:25.756986Z"
    }
   }
  },
  {
   "cell_type": "code",
   "execution_count": 10,
   "outputs": [
    {
     "data": {
      "text/plain": "['\\tcontract ERC20 >>> ( <<< ) : def transfer ( ',\n '\\t0 , 32 ) pop >>> } <<< } function updateExchange ( address ',\n '\\t_txData ) ) if gt >>> ( <<< color , 49152 ) { ',\n '\\t0 , 32 ) pop >>> } <<< } function updateExchange ( address ',\n '\\t, returndatasize ) if iszero >>> ( <<< result ) { revert ( ',\n '\\t, off ) if gt >>> ( <<< add ( len , off ',\n '\\t0 , 32 ) pop >>> } <<< } function updateExchange ( address ',\n '\\t, returndatasize ) if iszero >>> ( <<< result ) { revert ( ',\n '\\t0 , 32 ) pop >>> } <<< } function updateExchange ( address ']"
     },
     "execution_count": 10,
     "metadata": {},
     "output_type": "execute_result"
    }
   ],
   "source": [
    "# take a look at errors\n",
    "actual_err = []\n",
    "for e in errno:\n",
    "    er = next((line for line in e.split('\\n') if '>>>' in line), None)\n",
    "    if er:\n",
    "        actual_err.append(er)\n",
    "    else:\n",
    "        actual_err.append('Unknown Error')\n",
    "\n",
    "actual_err"
   ],
   "metadata": {
    "collapsed": false,
    "ExecuteTime": {
     "end_time": "2023-11-03T21:16:46.261632Z",
     "start_time": "2023-11-03T21:16:46.257980Z"
    }
   }
  },
  {
   "cell_type": "code",
   "execution_count": 7,
   "outputs": [
    {
     "data": {
      "text/plain": "'/Users/sourenakhanzadeh/programming/txl/SolOSphere/scripts/nicad_contracts'"
     },
     "execution_count": 7,
     "metadata": {},
     "output_type": "execute_result"
    }
   ],
   "source": [
    "nicad_contracts = os.path.abspath(os.path.join(os.getcwd(), '..', 'scripts', 'nicad_contracts'))\n",
    "\n",
    "nicad_contracts"
   ],
   "metadata": {
    "collapsed": false,
    "ExecuteTime": {
     "end_time": "2023-11-03T21:14:33.527005Z",
     "start_time": "2023-11-03T21:14:33.525936Z"
    }
   }
  },
  {
   "cell_type": "code",
   "execution_count": 8,
   "outputs": [
    {
     "name": "stdout",
     "output_type": "stream",
     "text": [
      "Parsing contracts...\n"
     ]
    },
    {
     "name": "stderr",
     "output_type": "stream",
     "text": [
      "100%|██████████| 1/1 [00:03<00:00,  3.52s/it]"
     ]
    },
    {
     "name": "stdout",
     "output_type": "stream",
     "text": [
      "Parsed: 358\n",
      "Errors: 9\n",
      "Total: 367\n",
      "TOTAL CONTRACTS: 367\n",
      "Ratio Parsed: 0.9754768392370572\n",
      "Ratio ~Parsed: 0.02452316076294278\n"
     ]
    },
    {
     "name": "stderr",
     "output_type": "stream",
     "text": [
      "\n"
     ]
    }
   ],
   "source": [
    "# parse and unparse the contracts\n",
    "outputs, errors, errno = parse_unparse_contracts(txl_path, [nicad_contracts])"
   ],
   "metadata": {
    "collapsed": false,
    "ExecuteTime": {
     "end_time": "2023-11-03T21:14:37.051900Z",
     "start_time": "2023-11-03T21:14:33.526546Z"
    }
   }
  },
  {
   "cell_type": "code",
   "execution_count": 9,
   "outputs": [
    {
     "data": {
      "text/plain": "[\"TXL v10.8b (13.7.22) (c) 1988-2022 Queen's University at Kingston\\nCompiling /Users/sourenakhanzadeh/programming/txl/SolOSphere/SolO/txl/new_version/optimize.txl ... \\nParsing /Users/sourenakhanzadeh/programming/txl/SolOSphere/scripts/nicad_contracts/Vyper_contract.sol ...\\n[/Users/sourenakhanzadeh/programming/txl/SolOSphere/scripts/nicad_contracts/Vyper_contract.sol, /Users/sourenakhanzadeh/programming/txl/SolOSphere/SolO/txl/new_version/optimize.txl] : TXL0192E line 1 of /Users/sourenakhanzadeh/programming/txl/SolOSphere/scripts/nicad_contracts/Vyper_contract.sol - Syntax error at or near:\\n\\tcontract ERC20 >>> ( <<< ) : def transfer ( \\n\",\n \"TXL v10.8b (13.7.22) (c) 1988-2022 Queen's University at Kingston\\nCompiling /Users/sourenakhanzadeh/programming/txl/SolOSphere/SolO/txl/new_version/optimize.txl ... \\nParsing /Users/sourenakhanzadeh/programming/txl/SolOSphere/scripts/nicad_contracts/ExchangeV3.sol ...\\n[/Users/sourenakhanzadeh/programming/txl/SolOSphere/scripts/nicad_contracts/ExchangeV3.sol, /Users/sourenakhanzadeh/programming/txl/SolOSphere/SolO/txl/new_version/optimize.txl] : TXL0192E line 289 of /Users/sourenakhanzadeh/programming/txl/SolOSphere/scripts/nicad_contracts/ExchangeV3.sol - Syntax error at or near:\\n\\t0 , 32 ) pop >>> } <<< } function updateExchange ( address \\n\",\n \"TXL v10.8b (13.7.22) (c) 1988-2022 Queen's University at Kingston\\nCompiling /Users/sourenakhanzadeh/programming/txl/SolOSphere/SolO/txl/new_version/optimize.txl ... \\nParsing /Users/sourenakhanzadeh/programming/txl/SolOSphere/scripts/nicad_contracts/FastExitHandler.sol ...\\n[/Users/sourenakhanzadeh/programming/txl/SolOSphere/scripts/nicad_contracts/FastExitHandler.sol, /Users/sourenakhanzadeh/programming/txl/SolOSphere/SolO/txl/new_version/optimize.txl] : TXL0192E line 1100 of /Users/sourenakhanzadeh/programming/txl/SolOSphere/scripts/nicad_contracts/FastExitHandler.sol - Syntax error at or near:\\n\\t_txData ) ) if gt >>> ( <<< color , 49152 ) { \\n\",\n \"TXL v10.8b (13.7.22) (c) 1988-2022 Queen's University at Kingston\\nCompiling /Users/sourenakhanzadeh/programming/txl/SolOSphere/SolO/txl/new_version/optimize.txl ... \\nParsing /Users/sourenakhanzadeh/programming/txl/SolOSphere/scripts/nicad_contracts/WalletLogic5.sol ...\\n[/Users/sourenakhanzadeh/programming/txl/SolOSphere/scripts/nicad_contracts/WalletLogic5.sol, /Users/sourenakhanzadeh/programming/txl/SolOSphere/SolO/txl/new_version/optimize.txl] : TXL0192E line 245 of /Users/sourenakhanzadeh/programming/txl/SolOSphere/scripts/nicad_contracts/WalletLogic5.sol - Syntax error at or near:\\n\\t0 , 32 ) pop >>> } <<< } function updateExchange ( address \\n\",\n \"TXL v10.8b (13.7.22) (c) 1988-2022 Queen's University at Kingston\\nCompiling /Users/sourenakhanzadeh/programming/txl/SolOSphere/SolO/txl/new_version/optimize.txl ... \\nParsing /Users/sourenakhanzadeh/programming/txl/SolOSphere/scripts/nicad_contracts/Synthetix.sol ...\\n[/Users/sourenakhanzadeh/programming/txl/SolOSphere/scripts/nicad_contracts/Synthetix.sol, /Users/sourenakhanzadeh/programming/txl/SolOSphere/SolO/txl/new_version/optimize.txl] : TXL0192E line 795 of /Users/sourenakhanzadeh/programming/txl/SolOSphere/scripts/nicad_contracts/Synthetix.sol - Syntax error at or near:\\n\\t, returndatasize ) if iszero >>> ( <<< result ) { revert ( \\n\",\n \"TXL v10.8b (13.7.22) (c) 1988-2022 Queen's University at Kingston\\nCompiling /Users/sourenakhanzadeh/programming/txl/SolOSphere/SolO/txl/new_version/optimize.txl ... \\nParsing /Users/sourenakhanzadeh/programming/txl/SolOSphere/scripts/nicad_contracts/ATestnetConsumer.sol ...\\n[/Users/sourenakhanzadeh/programming/txl/SolOSphere/scripts/nicad_contracts/ATestnetConsumer.sol, /Users/sourenakhanzadeh/programming/txl/SolOSphere/SolO/txl/new_version/optimize.txl] : TXL0192E line 114 of /Users/sourenakhanzadeh/programming/txl/SolOSphere/scripts/nicad_contracts/ATestnetConsumer.sol - Syntax error at or near:\\n\\t, off ) if gt >>> ( <<< add ( len , off \\n\",\n \"TXL v10.8b (13.7.22) (c) 1988-2022 Queen's University at Kingston\\nCompiling /Users/sourenakhanzadeh/programming/txl/SolOSphere/SolO/txl/new_version/optimize.txl ... \\nParsing /Users/sourenakhanzadeh/programming/txl/SolOSphere/scripts/nicad_contracts/UsersManager.sol ...\\n[/Users/sourenakhanzadeh/programming/txl/SolOSphere/scripts/nicad_contracts/UsersManager.sol, /Users/sourenakhanzadeh/programming/txl/SolOSphere/SolO/txl/new_version/optimize.txl] : TXL0192E line 308 of /Users/sourenakhanzadeh/programming/txl/SolOSphere/scripts/nicad_contracts/UsersManager.sol - Syntax error at or near:\\n\\t0 , 32 ) pop >>> } <<< } function updateExchange ( address \\n\",\n \"TXL v10.8b (13.7.22) (c) 1988-2022 Queen's University at Kingston\\nCompiling /Users/sourenakhanzadeh/programming/txl/SolOSphere/SolO/txl/new_version/optimize.txl ... \\nParsing /Users/sourenakhanzadeh/programming/txl/SolOSphere/scripts/nicad_contracts/ProxyERC20.sol ...\\n[/Users/sourenakhanzadeh/programming/txl/SolOSphere/scripts/nicad_contracts/ProxyERC20.sol, /Users/sourenakhanzadeh/programming/txl/SolOSphere/SolO/txl/new_version/optimize.txl] : TXL0192E line 202 of /Users/sourenakhanzadeh/programming/txl/SolOSphere/scripts/nicad_contracts/ProxyERC20.sol - Syntax error at or near:\\n\\t, returndatasize ) if iszero >>> ( <<< result ) { revert ( \\n\",\n \"TXL v10.8b (13.7.22) (c) 1988-2022 Queen's University at Kingston\\nCompiling /Users/sourenakhanzadeh/programming/txl/SolOSphere/SolO/txl/new_version/optimize.txl ... \\nParsing /Users/sourenakhanzadeh/programming/txl/SolOSphere/scripts/nicad_contracts/WalletV3Builder.sol ...\\n[/Users/sourenakhanzadeh/programming/txl/SolOSphere/scripts/nicad_contracts/WalletV3Builder.sol, /Users/sourenakhanzadeh/programming/txl/SolOSphere/SolO/txl/new_version/optimize.txl] : TXL0192E line 308 of /Users/sourenakhanzadeh/programming/txl/SolOSphere/scripts/nicad_contracts/WalletV3Builder.sol - Syntax error at or near:\\n\\t0 , 32 ) pop >>> } <<< } function updateExchange ( address \\n\"]"
     },
     "execution_count": 9,
     "metadata": {},
     "output_type": "execute_result"
    }
   ],
   "source": [
    "errno"
   ],
   "metadata": {
    "collapsed": false,
    "ExecuteTime": {
     "end_time": "2023-11-03T21:15:04.693947Z",
     "start_time": "2023-11-03T21:15:04.680542Z"
    }
   }
  },
  {
   "cell_type": "code",
   "execution_count": null,
   "outputs": [],
   "source": [],
   "metadata": {
    "collapsed": false
   }
  }
 ],
 "metadata": {
  "kernelspec": {
   "display_name": "Python 3",
   "language": "python",
   "name": "python3"
  },
  "language_info": {
   "codemirror_mode": {
    "name": "ipython",
    "version": 2
   },
   "file_extension": ".py",
   "mimetype": "text/x-python",
   "name": "python",
   "nbconvert_exporter": "python",
   "pygments_lexer": "ipython2",
   "version": "2.7.6"
  }
 },
 "nbformat": 4,
 "nbformat_minor": 0
}
