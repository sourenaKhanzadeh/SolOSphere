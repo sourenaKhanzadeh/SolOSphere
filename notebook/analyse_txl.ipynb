{
 "cells": [
  {
   "cell_type": "markdown",
   "source": [
    "# Import libraries\n"
   ],
   "metadata": {
    "collapsed": false
   }
  },
  {
   "cell_type": "code",
   "execution_count": 4,
   "metadata": {
    "collapsed": true,
    "ExecuteTime": {
     "end_time": "2023-11-03T15:52:08.818096Z",
     "start_time": "2023-11-03T15:52:08.812373Z"
    }
   },
   "outputs": [],
   "source": [
    "import os\n",
    "import sys\n",
    "import subprocess\n",
    "import tqdm\n",
    "from typing import List, Tuple"
   ]
  },
  {
   "cell_type": "markdown",
   "source": [
    "# Verify The Total TXL Can Parse\n",
    "function named `parse_unparse_contracts` is used to parse and unparse contracts using TXL.\n",
    "The function takes two arguments:\n",
    "- `txl`: the path to the TXL file\n",
    "- `paths`: a list of paths to the contracts to parse\n",
    "The function returns two lists:\n",
    "- `outputs`: a list of paths to the contracts that were parsed\n",
    "- `errors`: a list of paths to the contracts that were not parsed\n",
    "\n",
    "for errors is a list of paths to the contracts that were not parsed.\n",
    "for outputs is a list of paths to the contracts that were parsed.\n",
    "$$TXL_{errors} = |errors|$$\n",
    "$$TXL_{outputs} = |outputs|$$\n",
    "$$TXL_{total} = TXL_{errors} + TXL_{outputs}$$\n",
    "$$TXL_{ratio} = \\frac{TXL_{outputs}}{TXL_{total}}$$\n",
    "$$TXL_{\\bar{ratio}} = \\frac{TXL_{errors}}{TXL_{total}}$$"
   ],
   "metadata": {
    "collapsed": false
   }
  },
  {
   "cell_type": "code",
   "execution_count": 49,
   "outputs": [],
   "source": [
    "def parse_unparse_contracts(txl: str, paths: list) -> Tuple[List[str], List[str], List[str]]:\n",
    "    \"\"\"\n",
    "    Parse and unparse contracts.\n",
    "    using TXL\n",
    "    :return:\n",
    "    \"\"\"\n",
    "    contracts_num = 0\n",
    "    errors = []\n",
    "    errno = []\n",
    "    outputs = []\n",
    "    # for each file in the contracts folder\n",
    "    # do the command 'txl ?.sol ?.txl'\n",
    "    # write a progress bar\n",
    "    tqdm.tqdm.write('Parsing contracts...')\n",
    "    for path in tqdm.tqdm(paths):\n",
    "        # get the files in the contracts folder\n",
    "        for p in os.listdir(path):\n",
    "            if p.endswith('.sol'):\n",
    "                ps = os.path.abspath(os.path.join(path, p))\n",
    "            contracts_num += 1\n",
    "            # get errors and output from txl\n",
    "            proc = subprocess.Popen(['txl', txl, ps], stdout=subprocess.PIPE, stderr=subprocess.PIPE)\n",
    "            out, err = proc.communicate()\n",
    "\n",
    "            # Check return code to see if txl command was successful\n",
    "            if proc.returncode != 0:\n",
    "                error_message = err.decode('utf-8') if err else 'Unknown error'\n",
    "                # Log the error\n",
    "                # tqdm.tqdm.write(f'Error processing {ps}:\\n{error_message}')\n",
    "                errors.append(ps)\n",
    "                errno.append(error_message)\n",
    "                # If you want to raise an exception instead of just logging:\n",
    "                # raise RuntimeError(f'Error processing {ps}:\\n{error_message}')\n",
    "\n",
    "            # if there is output\n",
    "            if out:\n",
    "                output_message = out.decode('utf-8')\n",
    "                # Uncomment below if you want to print the output\n",
    "                # tqdm.tqdm.write(f'Output from processing {ps}:\\n{output_message}')\n",
    "                outputs.append(output_message)\n",
    "\n",
    "    # show progress bar showing the number of files parsed and did not parse\n",
    "    tqdm.tqdm.write('Parsed: {}'.format(len(outputs)))\n",
    "    tqdm.tqdm.write('Errors: {}'.format(len(errors)))\n",
    "    tqdm.tqdm.write('Total: {}'.format(len(outputs) + len(errors)))\n",
    "    tqdm.tqdm.write('TOTAL CONTRACTS: {}'.format(contracts_num))\n",
    "    # ratio of files parsed to files not parsed\n",
    "    tqdm.tqdm.write('Ratio Parsed: {}'.format(len(outputs) / (len(outputs) + len(errors))))\n",
    "    tqdm.tqdm.write('Ratio ~Parsed: {}'.format(len(errors) / (len(outputs) + len(errors))))\n",
    "    return outputs, errors, errno"
   ],
   "metadata": {
    "collapsed": false,
    "ExecuteTime": {
     "end_time": "2023-11-03T18:43:52.726988Z",
     "start_time": "2023-11-03T18:43:52.720268Z"
    }
   }
  },
  {
   "cell_type": "markdown",
   "source": [
    "# Parse and Unparse Contracts (get all the contracts)"
   ],
   "metadata": {
    "collapsed": false
   }
  },
  {
   "cell_type": "code",
   "execution_count": 6,
   "outputs": [
    {
     "data": {
      "text/plain": "['/Users/sourenakhanzadeh/programming/txl/SolOSphere/scripts/custom_contracts',\n '/Users/sourenakhanzadeh/programming/txl/SolOSphere/scripts/gpt_contracts',\n '/Users/sourenakhanzadeh/programming/txl/SolOSphere/scripts/github_contracts/error_contracts',\n '/Users/sourenakhanzadeh/programming/txl/SolOSphere/scripts/github_contracts/verified_contracts']"
     },
     "execution_count": 6,
     "metadata": {},
     "output_type": "execute_result"
    }
   ],
   "source": [
    "# get the path to the contracts\n",
    "contracts_path = [os.path.abspath(os.path.join(os.getcwd(), '..', 'scripts', 'custom_contracts')),\n",
    "                    os.path.abspath(os.path.join(os.getcwd(), '..', 'scripts', 'gpt_contracts')),\n",
    "                    os.path.abspath(os.path.join(os.getcwd(), '..', 'scripts', 'github_contracts', 'error_contracts')),\n",
    "                    os.path.abspath(os.path.join(os.getcwd(), '..', 'scripts', 'github_contracts', 'verified_contracts')),\n",
    "                  ]\n",
    "\n",
    "contracts_path"
   ],
   "metadata": {
    "collapsed": false,
    "ExecuteTime": {
     "end_time": "2023-11-03T16:07:32.756569Z",
     "start_time": "2023-11-03T16:07:32.734550Z"
    }
   }
  },
  {
   "cell_type": "code",
   "execution_count": 8,
   "outputs": [
    {
     "data": {
      "text/plain": "'/Users/sourenakhanzadeh/programming/txl/SolOSphere/SolO/txl/new_version/optimize.txl'"
     },
     "execution_count": 8,
     "metadata": {},
     "output_type": "execute_result"
    }
   ],
   "source": [
    "# get the path to the txl file\n",
    "txl_path = os.path.abspath(os.path.join(os.getcwd(), '..', 'SolO', 'txl', 'new_version', 'optimize.txl'))\n",
    "\n",
    "txl_path"
   ],
   "metadata": {
    "collapsed": false,
    "ExecuteTime": {
     "end_time": "2023-11-03T16:10:07.786990Z",
     "start_time": "2023-11-03T16:10:07.783033Z"
    }
   }
  },
  {
   "cell_type": "code",
   "execution_count": 50,
   "outputs": [
    {
     "name": "stdout",
     "output_type": "stream",
     "text": [
      "Parsing contracts...\n"
     ]
    },
    {
     "name": "stderr",
     "output_type": "stream",
     "text": [
      "100%|██████████| 4/4 [00:07<00:00,  1.88s/it]"
     ]
    },
    {
     "name": "stdout",
     "output_type": "stream",
     "text": [
      "Parsed: 610\n",
      "Errors: 244\n",
      "Total: 854\n",
      "TOTAL CONTRACTS: 854\n",
      "Ratio Parsed: 0.7142857142857143\n",
      "Ratio ~Parsed: 0.2857142857142857\n"
     ]
    },
    {
     "name": "stderr",
     "output_type": "stream",
     "text": [
      "\n"
     ]
    }
   ],
   "source": [
    "# parse and unparse the contracts\n",
    "outputs, errors, errno = parse_unparse_contracts(txl_path, contracts_path)"
   ],
   "metadata": {
    "collapsed": false,
    "ExecuteTime": {
     "end_time": "2023-11-03T18:44:09.906478Z",
     "start_time": "2023-11-03T18:44:02.388841Z"
    }
   }
  },
  {
   "cell_type": "code",
   "execution_count": 69,
   "outputs": [
    {
     "data": {
      "text/plain": "['\\t>>> that <<< implements the same functionality pragma ',\n '\\t>>> . <<< pragma solidity ^ 0.8 .0 ',\n '\\t>>> with <<< the following features : pragma ',\n '\\t>>> 21 <<< pragma solidity ^ 0.8 .0 ',\n '\\t>>> . <<< pragma solidity ^ 0.8 .0 ',\n 'Unknown Error',\n 'Unknown Error',\n '\\t( address = > struct >>> User <<< ) public users ; struct ',\n 'Unknown Error',\n 'Unknown Error',\n 'Unknown Error',\n 'Unknown Error',\n 'Unknown Error',\n 'Unknown Error',\n 'Unknown Error',\n '\\t( ) public { unchecked >>> { <<< LibPRNG . PRNG memory prng ',\n '\\tlibrary RedBlackTreeLib { error ValueIsEmpty >>> ( <<< ) ; error ValueAlreadyExists ( ',\n '\\t, \"ERC1155: insufficient balance for transfer\" ) ; unchecked >>> { <<< _balances [ id ] [ ',\n '\\t\"forge-std/Test.sol\" ; import \"./interface.sol\" ; >>> CheatCodes <<< constant cheat = CheatCodes ( ',\n '\\tbalance ) ; } receive >>> ( <<< ) external payable { } ',\n '\\tlibrary LibClone { error DeploymentFailed >>> ( <<< ) ; error SaltDoesNotStartWithCaller ( ',\n '\\t( ) public { unchecked >>> { <<< bytes [ ] memory data ',\n '\\t) ; gatekeeper . enter >>> { <<< gas : 50000 } ( ',\n '\\t( WAVAX ) . call >>> { <<< value : 1 ether } ',\n '\\t) ; akutarNft . bid >>> { <<< value : 3.5 ether } ',\n '\\tsolidity ^ 0.8 .0 ; >>> abstract <<< contract Context { function _msgSender ',\n '\\t) = _target . call >>> { <<< value : msg . value ',\n '\\t18 ) ; } receive >>> ( <<< ) external payable { } ',\n '\\t) ; rbnb . mint >>> { <<< value : 100000000000000 } ( ',\n '\\tcontract MockImplementation { error Fail >>> ( <<< ) ; mapping ( uint256 ',\n '\\tsolidity ^ 0.8 .0 ; >>> abstract <<< contract Proxy { function _delegate ',\n '\\t) ; uniswapv2 . swapExactETHForTokens >>> { <<< value : 75 ether } ',\n '\\t( payments ) . call >>> { <<< value : address ( this ',\n '\\tuint8 = > mapping ( >>> Country <<< = > address [ ] ',\n '\\t( ) ; } } >>> abstract <<< contract A { uint public ',\n '\\t) ; test . bar >>> { <<< value : 100 } ( ',\n '\\tMockETHRecipient { bool public immutable >>> gasGriefUponReceiveETH <<< ; bool public immutable updateCounterUponReceiveETH ',\n '\\taddress ; address public immutable >>> token <<< ; bytes32 public merkleRoot ; ',\n '\\t) ; IERC20 public immutable >>> token <<< ; address public immutable beneficiary ',\n '\\t: = 0 loop : >>> jumpi <<< ( end , eq ( ',\n '\\t= _initialSupply ; } receive >>> ( <<< ) external payable { balances ',\n '\\t, 0x20 ) if and >>> ( <<< success , iszero ( mload ',\n '\\tmsg . sender . call >>> { <<< value : balance } ( ',\n '\\t> uint256 ) public override >>> balanceOf <<< ; mapping ( address = ',\n '\\t0 ) ; } fallback >>> ( <<< ) external { } } ',\n '\\t) public pure { unchecked >>> { <<< FixedPointMathLib . fullMulDiv ( x ',\n '\\tonlyOwner { proxy . upgradeToAndCall >>> { <<< value : msg . value ',\n '\\t) ) ; try targetWihtdraw >>> . <<< withdrawReturnAmountByReferral ( ) { } ',\n '\\tbytes ( testBytes [ startIndex >>> : <<< ] ) ) ; } ',\n '\\t0 ) throw ; _ >>> } <<< function balanceOf ( address _owner ',\n '\\tmstore ( 0x20 , map >>> . <<< slot ) mstore ( 0x00 ',\n '\\tlibrary LibString { error HexLengthInsufficient >>> ( <<< ) ; uint256 internal constant ',\n '\\t) = player . call >>> { <<< value : refundETH } ( ',\n '\\tDynamicBuffer memory buffer ; unchecked >>> { <<< uint256 expectedLength ; uint256 start ',\n '\\tlibrary MinHeapLib { error HeapIsEmpty >>> ( <<< ) ; struct Heap { ',\n '\\tmsg . sender . call >>> { <<< value : _amount } ( ',\n '\\t\"forge-std/Test.sol\" ; import \"./interface.sol\" ; >>> abstract <<< contract IDegenBox { function setMasterContractApproval ',\n '\\tMockERC721 } from \"./utils/mocks/MockERC721.sol\" ; >>> abstract <<< contract ERC721TokenReceiver { function onERC721Received ',\n '\\t) ; houseWallet . shoot >>> { <<< value : 0.32 ether } ',\n '\\tpublic { wbnb . deposit >>> { <<< value : 10 * 1e18 ',\n '\\t) ; acowrite . write >>> { <<< value : 1 } ( ',\n '\\t( ) public { unchecked >>> { <<< for ( uint256 i ; ',\n '\\t0x20 ) } if iszero >>> ( <<< runs_ ) { leave } ',\n '\\t( instance ) . call >>> { <<< value : msg . value ',\n '\\t\"forge-std/Test.sol\" ; import \"./interface.sol\" ; >>> CheatCodes <<< constant cheat = CheatCodes ( ',\n '\\tsolidity ^ 0.8 .4 ; >>> abstract <<< contract Multicallable { function multicall ',\n '\\t- = amount ; unchecked >>> { <<< balanceOf [ to ] + ',\n '\\tusdc_balance ) ; } receive >>> ( <<< ) external payable { rari_Comptroller ',\n '\\t>>> abstract <<< contract Context { function _msgSender ',\n '\\tsolidity ^ 0.8 .0 ; >>> abstract <<< contract Ownable { address public ',\n '\\t) ; assertEq ( unicode >>> \"naïve\" <<< . toSlice ( ) . ',\n '\\t( Surge_Address ) . call >>> { <<< value : address ( this ',\n '\\t) ; FlippazOne . bid >>> { <<< value : 2 ether } ',\n '\\t{ assembly { if mload >>> ( <<< proof ) { let offset ',\n '\\t- = amount ; unchecked >>> { <<< balanceOf [ to ] + ',\n '\\tuint256 result ) { unchecked >>> { <<< result = dateToEpochDay ( year ',\n '\\t= _bank ; } receive >>> ( <<< ) external payable { revert ',\n '\\t\"forge-std/Test.sol\" ; import \"./interface.sol\" ; >>> CheatCodes <<< constant cheat = CheatCodes ( ',\n '\\trecoveryInstance ) ] . call >>> { <<< value : msg . value ',\n '\\t) ; wbnb . deposit >>> { <<< value : address ( this ',\n '\\t( nftAddress ) . call >>> { <<< value : 0.01 ether } ',\n '\\t) = recipient . call >>> { <<< value : amount } ( ',\n '\\t\"forge-std/Test.sol\" ; import \"./interface.sol\" ; >>> struct <<< Signature { address signatory ; ',\n '\\t) ) { try IERC721Receiver >>> ( <<< to ) . onERC721Received ( ',\n '\\tU ) ; } receive >>> ( <<< ) external payable { } ',\n '\\t) } } } fallback >>> ( <<< ) external payable virtual { ',\n '\\tlibrary ECDSA { error InvalidSignature >>> ( <<< ) ; bytes32 private constant ',\n '\\t) ; weth . deposit >>> { <<< value : 1 ether } ',\n '\\tcontract ERC1967Factory { error Unauthorized >>> ( <<< ) ; error DeploymentFailed ( ',\n '\\t{ uint256 roles ; unchecked >>> { <<< for ( uint256 i ; ',\n '\\t) ; DutchAuction . batch >>> { <<< value : 100000000000000000000 } ( ',\n '\\tmstore ( 0x20 , bitmap >>> . <<< slot ) let storageSlot : ',\n '\\t\"forge-std/Test.sol\" ; import \"./interface.sol\" ; >>> CheatCodes <<< constant cheat = CheatCodes ( ',\n '\\t) = target . call >>> { <<< value : value } ( ',\n '\\terc20Released ; address public immutable >>> beneficiary <<< ; uint256 public immutable start ',\n '\\t) ; instance . deposit >>> { <<< value : msg . value ',\n '\\t.0 ; import \"../levels/GoodSamaritan.sol\" ; >>> error <<< NotEnoughBalance ( ) ; contract ',\n '\\t) external payable ; receive >>> ( <<< ) external payable ; } ',\n '\\t. selector ; } receive >>> ( <<< ) external payable { } ',\n '\\t\"forge-std/Test.sol\" ; import \"./interface.sol\" ; >>> CheatCodes <<< constant cheat = CheatCodes ( ',\n '\\t\"forge-std/Test.sol\" ; import \"./interface.sol\" ; >>> struct <<< Signature { address signatory ; ',\n '\\tuint256 ) public { unchecked >>> { <<< address [ ] memory a ',\n '\\tlibrary FixedPointMathLib { error ExpOverflow >>> ( <<< ) ; error FactorialOverflow ( ',\n \"\\t.0 ; import 'openzeppelin-contracts-06/access/Ownable.sol' ; >>> abstract <<< contract Level is Ownable { \",\n '\\t( 0x943590A42C27D08e3744202c4Ae5eD55c2dE240D ) . call >>> { <<< value : address ( this ',\n '\\t) ; creth . mint >>> { <<< value : 500 * 1e18 ',\n '\\t18 ) ; } receive >>> ( <<< ) external payable { } ',\n '\\t) ) ; } receive >>> ( <<< ) external payable { } ',\n '\\texpectedResult ) ; try this >>> . <<< recover ( digest , v ',\n '\\tcalldataload ( add ( signature >>> . <<< offset , signature . length ',\n '\\t\"forge-std/Test.sol\" ; import \"./interface.sol\" ; >>> CheatCodes <<< constant cheat = CheatCodes ( ',\n '\\t; assembly { if lt >>> ( <<< str , freeMemoryPointer ) { ',\n '\\t\"forge-std/Test.sol\" ; import \"./interface.sol\" ; >>> CheatCodes <<< constant cheat = CheatCodes ( ',\n '\\t) ) ; } receive >>> ( <<< ) external payable { } ',\n '\\t) ; realitio . submitAnswer >>> { <<< value : 1 } ( ',\n '\\tbalance ; Vault . deposit >>> { <<< value : 1e17 } ( ',\n '\\treturn true ; } receive >>> ( <<< ) external payable { } ',\n '\\t( WBNB ) . call >>> { <<< value : 1e18 } ( ',\n '\\tpublic { target . donate >>> { <<< value : 1 } ( ',\n '\\t\"forge-std/Test.sol\" ; import \"./interface.sol\" ; >>> CheatCodes <<< constant cheat = CheatCodes ( ',\n '\\t( WBNB ) . call >>> { <<< value : 0.1 ether } ',\n \"\\t.0 ; import 'openzeppelin-contracts-08/access/Ownable.sol' ; >>> abstract <<< contract Level is Ownable { \",\n '\\t( 0x943590A42C27D08e3744202c4Ae5eD55c2dE240D ) . call >>> { <<< value : address ( this ',\n '\\t( GatekeeperOneContractAddress ) . call >>> { <<< gas : i + 150 ',\n '\\tuint gas ) ; fallback >>> ( <<< ) external payable { } ',\n '\\tsolidity ^ 0.8 .4 ; >>> abstract <<< contract Base { string public ',\n '\\tassembly { sstore ( someBytes >>> . <<< slot , 1 ) } ',\n '\\t100 ; partner . call >>> { <<< value : amountToSend } ( ',\n '\\t( 0x943590A42C27D08e3744202c4Ae5eD55c2dE240D ) . call >>> { <<< value : address ( this ',\n '\\t= 1 ; error DeploymentFailed >>> ( <<< ) ; error InvalidPointer ( ',\n '\\t) payable { } receive >>> ( <<< ) external payable { } ',\n '\\t) = to . call >>> { <<< value : value } ( ',\n '\\t1e6 ) ; } receive >>> ( <<< ) external payable { } ',\n '\\t( commissions ) . call >>> { <<< value : msg . value ',\n '\\tmsg . sender . call >>> { <<< value : address ( this ',\n '\\t) ) ; } receive >>> ( <<< ) external payable { } ',\n '\\t( WMATIC ) . call >>> { <<< value : 1 ether } ',\n '\\tlibrary CREATE3 { error DeploymentFailed >>> ( <<< ) ; error InitializationFailed ( ',\n '\\tPair pair = new Pair >>> { <<< salt : salt } ( ',\n '\\tsolidity ^ 0.8 .0 ; >>> abstract <<< contract Initializable { function isContract ',\n '\\tlibrary SafeCastLib { error Overflow >>> ( <<< ) ; function toUint8 ( ',\n '\\t( WBNB ) . call >>> { <<< value : 2 ether } ',\n '\\t\"forge-std/Test.sol\" ; import \"./interface.sol\" ; >>> CheatCodes <<< constant cheat = CheatCodes ( ',\n '\\t\"forge-std/Test.sol\" ; import \"./interface.sol\" ; >>> CheatCodes <<< constant cheat = CheatCodes ( ',\n '\\t= 0 ; } receive >>> ( <<< ) external payable { } ',\n '\\t\"forge-std/Test.sol\" ; import \"./interface.sol\" ; >>> CheatCodes <<< constant cheat = CheatCodes ( ',\n '\\t( 0x943590A42C27D08e3744202c4Ae5eD55c2dE240D ) . call >>> { <<< value : address ( this ',\n '\\t( WBNB ) . call >>> { <<< value : 30000 ether } ',\n '\\t) payable { } receive >>> ( <<< ) external payable { } ',\n '\\t) ; ousd . swap >>> { <<< value : 1 ether } ',\n '\\t\"forge-std/Test.sol\" ; import \"./interface.sol\" ; >>> CheatCodes <<< constant cheat = CheatCodes ( ',\n '\\tdata ) ; } receive >>> ( <<< ) external payable { } ',\n '\\t\"WETH\" ) { } fallback >>> ( <<< ) external payable { deposit ',\n \"\\t.0 ; import 'openzeppelin-contracts-08/access/Ownable.sol' ; >>> abstract <<< contract Level is Ownable { \",\n '\\tsuccess ) { try even >>> . <<< onlyEven ( amount ) returns ',\n '\\t) = _to . call >>> { <<< value : _amount } ( ',\n '\\tsolidity ^ 0.8 .0 ; >>> abstract <<< contract ERC165 is IERC165 { ',\n '\\t= implementation_ ; } fallback >>> ( <<< ) external payable { address ',\n '\\t( WBNB ) . call >>> { <<< value : 2 ether } ',\n '\\t) ; router . swapExactETHForTokensSupportingFeeOnTransferTokens >>> { <<< value : 100000 ether } ',\n '\\t) ) ) , proof >>> . <<< offset ) mstore ( add ',\n '\\t1 ) ; } } >>> abstract <<< contract Context { function _msgSender ',\n '\\tsolidity ^ 0.8 .4 ; >>> error <<< TransferNotOwner ( ) ; contract ',\n '\\t) = to . call >>> { <<< value : value } ( ',\n '\\tsolidity ^ 0.8 .4 ; >>> abstract <<< contract EIP712 { bytes32 internal ',\n '\\tis Multicallable { error CustomError >>> ( <<< ) ; struct Tuple { ',\n '\\tbuffer ) ; } } >>> abstract <<< contract Context { function _msgSender ',\n '\\t\"forge-std/Test.sol\" ; import \"./interface.sol\" ; >>> CheatCodes <<< constant cheat = CheatCodes ( ',\n '\\tinstance = _level . createInstance >>> { <<< value : msg . value ',\n '\\tbytes memory ) { unchecked >>> { <<< DynamicBufferLib . DynamicBuffer memory buffer ',\n '\\tlibrary SafeTransferLib { error ETHTransferFailed >>> ( <<< ) ; error TransferFromFailed ( ',\n '\\t1 ) } switch mod >>> ( <<< mload ( data ) , ',\n '\\tid ) ) revert TokenDoesNotExist >>> ( <<< ) ; return string ( ',\n '\\t) public nftList ; fallback >>> ( <<< ) external payable { } ',\n '\\t( WBNB ) . call >>> { <<< value : 5 ether } ',\n '\\t, u ) ; unchecked >>> { <<< for ( uint256 t ; ',\n '\\t( WBNB ) . call >>> { <<< value : 0.01 ether } ',\n '\\t, Clone { error CustomError >>> ( <<< uint256 currentValue ) ; event ',\n '\\t. Bitmap ; error AlreadyClaimed >>> ( <<< ) ; LibBitmap . Bitmap ',\n '\\t( 0x943590A42C27D08e3744202c4Ae5eD55c2dE240D ) . call >>> { <<< value : address ( this ',\n '\\t) ; WETH . deposit >>> { <<< value : address ( this ',\n '\\t) return ; try usersDetectionBots >>> [ <<< user ] . handleTransaction ( ',\n '\\t) ) ; } receive >>> ( <<< ) external payable { } ',\n '\\tenoughBalance ) { try wallet >>> . <<< donate10 ( msg . sender ',\n '\\t- = amount ; unchecked >>> { <<< balanceOf [ to ] + ',\n '\\t( WBNB ) . call >>> { <<< value : 20_000 } ( ',\n '\\t) ; } } receive >>> ( <<< ) external payable virtual { ',\n '\\t( otherContract ) . setX >>> { <<< value : msg . value ',\n '\\tpublic { wbnb . deposit >>> { <<< value : 5.752 ether } ',\n '\\t18 ) ; } receive >>> ( <<< ) external payable { } ',\n '\\t> uint256 ) public override >>> balanceOf <<< ; mapping ( address = ',\n '\\tuint8 = > mapping ( >>> Country <<< = > address [ ] ',\n '\\t: = sload ( _preBytes >>> . <<< slot ) let slength : ',\n '\\tsolidity ^ 0.8 .4 ; >>> error <<< SendFailed ( ) ; error ',\n '\\t: = 0 loop : >>> i <<< : = add ( i ',\n '\\tnonce ; address private immutable >>> owner <<< ; address private _lib ; ',\n '\\tmemory ) { try cryptoVault >>> . <<< sweepToken ( IERC20 ( instance ',\n '\\tMockERC1155 } from \"./utils/mocks/MockERC1155.sol\" ; >>> abstract <<< contract ERC1155TokenReceiver { function onERC1155Received ',\n '\\t.0 < 0.8 .0 ; >>> abstract <<< contract Context { function _msgSender ',\n '\\t( nftAddress ) . call >>> { <<< value : 0.01 ether } ',\n '\\t\"forge-std/Test.sol\" ; import \"./interface.sol\" ; >>> CheatCodes <<< constant cheat = CheatCodes ( ',\n '\\t) ) ) . deposit >>> { <<< value : address ( this ',\n '\\tuint8 = > mapping ( >>> Country <<< = > address [ ] ',\n '\\t) ) ; } fallback >>> ( <<< ) external { IERC20Custom ( ',\n '\\t( signature ) if iszero >>> ( <<< xor ( signatureLength , 65 ',\n '\\t, s ) if gt >>> ( <<< i , h ) { ',\n '\\tuint256 ) public { unchecked >>> { <<< uint256 n = _random ( ',\n '\\tIERC4626 { ERC20 private immutable >>> _asset <<< ; uint8 private immutable _decimals ',\n 'Unknown Error',\n '\\t) ) ) if iszero >>> ( <<< lt ( cSize , 32 ',\n '\\t\"forge-std/Test.sol\" ; import \"./interface.sol\" ; >>> CheatCodes <<< constant cheat = CheatCodes ( ',\n '\\t( ( new King ) >>> { <<< value : msg . value ',\n '\\tcontract MockCd { error Hash >>> ( <<< bytes32 h ) ; bytes32 ',\n '\\tsolidity ^ 0.8 .0 ; >>> abstract <<< contract Initializable { bool private ',\n '\\t, 1 ) ; unchecked >>> { <<< for ( uint256 i ; ',\n '\\t( ) public { unchecked >>> { <<< uint256 sum ; for ( ',\n '\\trefund ) ; } fallback >>> ( <<< ) external payable { } ',\n '\\tOwnable } from \"./Ownable.sol\" ; >>> abstract <<< contract OwnableRoles is Ownable { ',\n '\\t0x0000000000000000000000000000000000000000 ; uint256 public immutable >>> IMMUTABLE_NUM <<< = 9999999999 ; address public ',\n '\\t{ } { if iszero >>> ( <<< gt ( nonce , 0x7f ',\n '\\t{ uint256 c ; unchecked >>> { <<< for ( uint256 t = ',\n '\\t. value ; } receive >>> ( <<< ) external payable { require ',\n '\\tsolidity ^ 0.8 .0 ; >>> abstract <<< contract Reentrant { bool private ',\n '\\t{ assembly { if mload >>> ( <<< data ) { let w ',\n '\\t( bool ) { unchecked >>> { <<< require ( balances [ msg ',\n '\\t>>> function <<< getBalance ( address balanceHolder ) ',\n '\\t: = 24566 if iszero >>> ( <<< lt ( length , maxLength ',\n '\\tsolidity ^ 0.8 .4 ; >>> abstract <<< contract Clone { function _getArgBytes ',\n '\\t= _implementation ; } fallback >>> ( <<< ) external payable { ( ',\n '\\t= _implementation ; } fallback >>> ( <<< ) external payable { ( ',\n '\\t( ) public { unchecked >>> { <<< for ( uint256 i ; ',\n '\\tsolidity ^ 0.8 .0 ; >>> abstract <<< contract Context { function _msgSender ',\n '\\t\"./console2.sol\" ; import \"./StdJson.sol\" ; >>> abstract <<< contract Script { bool public ',\n '\\t= _implementation ; } fallback >>> ( <<< ) external payable { require ',\n '\\tis ERC721 { bytes32 immutable >>> public <<< root ; mapping ( address ',\n '\\tis ERC721 { address immutable >>> public <<< signer ; mapping ( address ',\n '\\t.0 ; import \"./IERC165.sol\" ; >>> abstract <<< contract ERC165 is IERC165 { ',\n '\\tbalance ) ; } receive >>> ( <<< ) external payable { require ',\n '\\texactDividedBy2And3 ( uint _a ) >>> virtual <<< { require ( _a % ',\n '\\t= _initialSupply ; } receive >>> ( <<< ) external payable { balances ',\n '\\t. sender ; } fallback >>> ( <<< ) external { ( bool ',\n '\\t, result ) if iszero >>> ( <<< lt ( result , mod ',\n '\\tERC4626 { bool public immutable >>> useVirtualShares <<< ; uint8 public immutable decimalsOffset ',\n '\\t; contract DenialAttack { fallback >>> ( <<< ) external payable { while ']"
     },
     "execution_count": 69,
     "metadata": {},
     "output_type": "execute_result"
    }
   ],
   "source": [
    "# take a look at errors\n",
    "actual_err = []\n",
    "for e in errno:\n",
    "    er = next((line for line in e.split('\\n') if '>>>' in line), None)\n",
    "    if er:\n",
    "        actual_err.append(er)\n",
    "    else:\n",
    "        actual_err.append('Unknown Error')\n",
    "\n",
    "actual_err"
   ],
   "metadata": {
    "collapsed": false,
    "ExecuteTime": {
     "end_time": "2023-11-03T19:05:56.694272Z",
     "start_time": "2023-11-03T19:05:56.693322Z"
    }
   }
  },
  {
   "cell_type": "code",
   "execution_count": null,
   "outputs": [],
   "source": [],
   "metadata": {
    "collapsed": false
   }
  }
 ],
 "metadata": {
  "kernelspec": {
   "display_name": "Python 3",
   "language": "python",
   "name": "python3"
  },
  "language_info": {
   "codemirror_mode": {
    "name": "ipython",
    "version": 2
   },
   "file_extension": ".py",
   "mimetype": "text/x-python",
   "name": "python",
   "nbconvert_exporter": "python",
   "pygments_lexer": "ipython2",
   "version": "2.7.6"
  }
 },
 "nbformat": 4,
 "nbformat_minor": 0
}
